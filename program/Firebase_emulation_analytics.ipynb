{
 "cells": [
  {
   "cell_type": "code",
   "execution_count": 243,
   "id": "69bbd308",
   "metadata": {},
   "outputs": [],
   "source": [
    "import firebase_admin\n",
    "from firebase_admin import db\n",
    "from firebase_admin import credentials"
   ]
  },
  {
   "cell_type": "code",
   "execution_count": 404,
   "id": "cede1fc5",
   "metadata": {},
   "outputs": [],
   "source": [
    "import pandas as pd\n",
    "import requests\n",
    "import chardet\n",
    "import seaborn as sns\n",
    "import matplotlib.pyplot as plt\n",
    "import datetime"
   ]
  },
  {
   "cell_type": "code",
   "execution_count": 245,
   "id": "65296d7d",
   "metadata": {},
   "outputs": [],
   "source": [
    "cred = credentials.Certificate(\"cred.json\")\n",
    "#firebase_admin.initialize_app(cred)"
   ]
  },
  {
   "cell_type": "code",
   "execution_count": 246,
   "id": "b9cef345",
   "metadata": {},
   "outputs": [
    {
     "ename": "ValueError",
     "evalue": "The default Firebase app already exists. This means you called initialize_app() more than once without providing an app name as the second argument. In most cases you only need to call initialize_app() once. But if you do want to initialize multiple apps, pass a second argument to initialize_app() to give each app a unique name.",
     "output_type": "error",
     "traceback": [
      "\u001b[0;31m---------------------------------------------------------------------------\u001b[0m",
      "\u001b[0;31mValueError\u001b[0m                                Traceback (most recent call last)",
      "\u001b[0;32m/var/folders/yp/zd2x4wvd7wgg9_232ywsztkc0000gn/T/ipykernel_88421/3141267994.py\u001b[0m in \u001b[0;36m<module>\u001b[0;34m\u001b[0m\n\u001b[0;32m----> 1\u001b[0;31m firebase_admin.initialize_app(cred, {\n\u001b[0m\u001b[1;32m      2\u001b[0m     \u001b[0;34m'databaseURL'\u001b[0m\u001b[0;34m:\u001b[0m \u001b[0;34m\"https://dsci551-c4bee-default-rtdb.firebaseio.com/\"\u001b[0m\u001b[0;34m\u001b[0m\u001b[0;34m\u001b[0m\u001b[0m\n\u001b[1;32m      3\u001b[0m })\n",
      "\u001b[0;32m/opt/anaconda3/lib/python3.8/site-packages/firebase_admin/__init__.py\u001b[0m in \u001b[0;36minitialize_app\u001b[0;34m(credential, options, name)\u001b[0m\n\u001b[1;32m     69\u001b[0m \u001b[0;34m\u001b[0m\u001b[0m\n\u001b[1;32m     70\u001b[0m     \u001b[0;32mif\u001b[0m \u001b[0mname\u001b[0m \u001b[0;34m==\u001b[0m \u001b[0m_DEFAULT_APP_NAME\u001b[0m\u001b[0;34m:\u001b[0m\u001b[0;34m\u001b[0m\u001b[0;34m\u001b[0m\u001b[0m\n\u001b[0;32m---> 71\u001b[0;31m         raise ValueError((\n\u001b[0m\u001b[1;32m     72\u001b[0m             \u001b[0;34m'The default Firebase app already exists. This means you called '\u001b[0m\u001b[0;34m\u001b[0m\u001b[0;34m\u001b[0m\u001b[0m\n\u001b[1;32m     73\u001b[0m             \u001b[0;34m'initialize_app() more than once without providing an app name as '\u001b[0m\u001b[0;34m\u001b[0m\u001b[0;34m\u001b[0m\u001b[0m\n",
      "\u001b[0;31mValueError\u001b[0m: The default Firebase app already exists. This means you called initialize_app() more than once without providing an app name as the second argument. In most cases you only need to call initialize_app() once. But if you do want to initialize multiple apps, pass a second argument to initialize_app() to give each app a unique name."
     ]
    }
   ],
   "source": [
    "firebase_admin.initialize_app(cred, {\n",
    "    'databaseURL': \"https://dsci551-c4bee-default-rtdb.firebaseio.com/\"\n",
    "})"
   ]
  },
  {
   "cell_type": "code",
   "execution_count": 30,
   "id": "e556ee3a",
   "metadata": {},
   "outputs": [],
   "source": [
    "import json"
   ]
  },
  {
   "cell_type": "code",
   "execution_count": 247,
   "id": "0eee107f",
   "metadata": {},
   "outputs": [],
   "source": [
    "def ls(dir_in):\n",
    "    dir_list = []\n",
    "    try:\n",
    "        ref1 = db.reference(dir_in)\n",
    "        result = ref1.get()\n",
    "        if result == None:\n",
    "            return'No directory exists'\n",
    "        else:\n",
    "            for i in result:\n",
    "                dir_list.append(i)\n",
    "    except:\n",
    "        return'Invalid error'\n",
    "    return dir_list"
   ]
  },
  {
   "cell_type": "code",
   "execution_count": 248,
   "id": "a09e791c",
   "metadata": {},
   "outputs": [],
   "source": [
    "# check the directory before the last one\n",
    "def dirExist(dir_in):\n",
    "    try:\n",
    "        if_exist = True\n",
    "        if dir_in[0] != '/':\n",
    "            return False\n",
    "        dir_in_list = dir_in.split('/')\n",
    "        dir_in_list = dir_in_list[1:]\n",
    "        for i in range(len(dir_in_list)):\n",
    "            if i != (len(dir_in_list) - 1):\n",
    "                current_dir = '/' + '/'.join(dir_in_list[0:i])\n",
    "                current_ls = ls(current_dir)\n",
    "                if dir_in_list[i] not in current_ls:\n",
    "                    if_exist = False\n",
    "                    break\n",
    "        return if_exist\n",
    "    except:\n",
    "        return False"
   ]
  },
  {
   "cell_type": "code",
   "execution_count": 228,
   "id": "47ebec09",
   "metadata": {},
   "outputs": [],
   "source": [
    "def newDirExist(dir_in):\n",
    "    try:\n",
    "        if_exist = True\n",
    "        if dir_in[0] != '/':\n",
    "                return False\n",
    "        dir_in_list = dir_in.split('/')\n",
    "        dir_in_list = dir_in_list[1:]  \n",
    "        last_ls = ls('/' + '/'.join(dir_in_list[0:-1]))\n",
    "        if dir_in_list[-1] not in last_ls:\n",
    "            if_exist = False\n",
    "        return if_exist\n",
    "    except:\n",
    "        return False"
   ]
  },
  {
   "cell_type": "code",
   "execution_count": 229,
   "id": "03c99cb3",
   "metadata": {},
   "outputs": [],
   "source": [
    "def mkDirectory(dir_in):\n",
    "    try:\n",
    "        dir_in_list = dir_in.split('/')\n",
    "        dir_in_list = dir_in_list[1:]\n",
    "        if dirExist(dir_in) == False:\n",
    "            return 'Directory not exist'\n",
    "        if newDirExist(dir_in) == True:\n",
    "            return 'You new diretory already exists'\n",
    "        if len(dir_in_list) >= 2:\n",
    "            child_ref = dir_in_list[-2]\n",
    "            new_ref = dir_in_list[-1]\n",
    "            dir_ref = dir_in[0: -(len(child_ref) + len(new_ref) + 2)]\n",
    "            mkdir = db.reference(dir_ref)\n",
    "            child = mkdir.child(child_ref)\n",
    "            child.update({new_ref: \"\"})\n",
    "        else:\n",
    "            new_ref = dir_in_list[-1]\n",
    "            dir_ref = '/'\n",
    "            mkdir = db.reference(dir_ref)\n",
    "            mkdir.update({new_ref: \"\"})\n",
    "    except:\n",
    "        return'Invalid error'\n",
    "    return 'You successfully made a new directory'"
   ]
  },
  {
   "cell_type": "code",
   "execution_count": 230,
   "id": "4c247832",
   "metadata": {},
   "outputs": [],
   "source": [
    "def uploadFile(fileName):\n",
    "    # if filename not found?\n",
    "    try: \n",
    "        if fileName not in ['collision.csv', 'parties.csv', 'victims.csv', 'LA_Weather.csv', 'LA_County_COVID_Cases.csv']:\n",
    "            return 'File not found'\n",
    "        if dirExist('/Data/x') == False:\n",
    "            d = mkDirectory('/Data')\n",
    "        if fileName == 'collision.csv':\n",
    "            df = pd.read_csv('../Data/' + fileName, encoding='latin1',low_memory = False)\n",
    "            df['collision_date'] = df['collision_date'].astype('string')\n",
    "            df1 = df[df['collision_date'].str.contains('2020') == True]\n",
    "            json1 = df1.to_json(orient = 'index')\n",
    "            df2 = df[df['collision_date'].str.contains('2021') == True]\n",
    "            json2 = df2.to_json(orient = 'index')\n",
    "            df1_url = \"https://dsci551-c4bee-default-rtdb.firebaseio.com/Data/collision_json/\" + \"collision_2020.json\"\n",
    "            df2_url = \"https://dsci551-c4bee-default-rtdb.firebaseio.com/Data/collision_json/\" + \"collision_2021.json\"\n",
    "            requests.put(df1_url, json1)\n",
    "            requests.put(df2_url, json2)\n",
    "            return [df1_url, df2_url]\n",
    "        elif fileName == 'parties.csv':\n",
    "            df = pd.read_csv('../Data/' + fileName, encoding='latin1')\n",
    "            df1 = df[df['at_fault'] == 0]\n",
    "            json1 = df1.to_json(orient = 'index')\n",
    "            df2 = df[df['at_fault'] == 1]\n",
    "            json2 = df2.to_json(orient = 'index')\n",
    "            df1_url = \"https://dsci551-c4bee-default-rtdb.firebaseio.com/Data/parties_json/\" + \"parties_0.json\"\n",
    "            df2_url = \"https://dsci551-c4bee-default-rtdb.firebaseio.com/Data/parties_json/\" + \"parties_1.json\"\n",
    "            requests.put(df1_url, json1)\n",
    "            requests.put(df2_url, json2)\n",
    "            return [df1_url, df2_url]\n",
    "        elif fileName == 'victims.csv':\n",
    "            df = pd.read_csv('../Data/' + fileName, encoding='latin1')\n",
    "            json = df.to_json(orient = 'index')\n",
    "            df_url = \"https://dsci551-c4bee-default-rtdb.firebaseio.com/Data/victims_json/\" + \"victims.json\"\n",
    "            requests.put(df_url, json)\n",
    "            return [df_url]\n",
    "        elif fileName == 'LA_Weather.csv':\n",
    "            df = pd.read_csv('../Data/' + fileName, encoding='latin1')\n",
    "            df['datetime'] = df['datetime'].astype('str')\n",
    "            df1 = df[df['datetime'].str.contains('2020') == True]\n",
    "            json1 = df1.to_json(orient = 'index')\n",
    "            df2 = df[df['datetime'].str.contains('2021') == True]\n",
    "            json2 = df2.to_json(orient = 'index')\n",
    "            df1_url = \"https://dsci551-c4bee-default-rtdb.firebaseio.com/Data/LA_Weather_json/\" + \"LA_Weather_2020.json\"\n",
    "            df2_url = \"https://dsci551-c4bee-default-rtdb.firebaseio.com/Data/LA_Weather_json/\" + \"LA_Weather_2021.json\"\n",
    "            requests.put(df1_url, json1)\n",
    "            requests.put(df2_url, json2)\n",
    "            return [df1_url, df2_url]\n",
    "        elif fileName == 'LA_County_COVID_Cases.csv':\n",
    "            df = pd.read_csv('../Data/' + fileName, encoding='latin1')\n",
    "            df['date'] = df['date'].astype('str')\n",
    "            df1 = df[df['date'].str.contains('2020') == True]\n",
    "            json1 = df1.to_json(orient = 'index')\n",
    "            df2 = df[df['date'].str.contains('2021') == True]\n",
    "            json2 = df2.to_json(orient = 'index')\n",
    "            df1_url = \"https://dsci551-c4bee-default-rtdb.firebaseio.com/Data/LA_County_COVID_Cases_json/\" + \"LA_Covid_2020.json\"\n",
    "            df2_url = \"https://dsci551-c4bee-default-rtdb.firebaseio.com/Data/LA_County_COVID_Cases_json/\" + \"LA_Covid_2021.json\"\n",
    "            requests.put(df1_url, json1)\n",
    "            requests.put(df2_url, json2)\n",
    "            return [df1_url, df2_url]\n",
    "    except:\n",
    "        return 'Invalid Input'"
   ]
  },
  {
   "cell_type": "code",
   "execution_count": 231,
   "id": "6bd45150",
   "metadata": {},
   "outputs": [],
   "source": [
    "def put(new_file, dir_in):\n",
    "    try:\n",
    "        dir_in_list = dir_in.split('/')\n",
    "        dir_in_list = dir_in_list[1:]\n",
    "        new_file_json = new_file.replace('.csv', '_json')\n",
    "        if dirExist(dir_in + '/' + new_file) == False:\n",
    "            return 'Directory not exist'\n",
    "        if newDirExist(dir_in + '/' + new_file_json) == True:\n",
    "            return 'You file already exists'\n",
    "        child_ref = dir_in_list[-1]\n",
    "        dir_ref = dir_in[0: -(len(child_ref) + 1)]\n",
    "        if dir_ref == '':\n",
    "            dir_ref = '/'\n",
    "        result_url = uploadFile(new_file)\n",
    "        if result_url == 'Invalid Input' or result_url == 'File not found':\n",
    "            return 'Invalid Input'\n",
    "        mkdir = db.reference(dir_ref)\n",
    "        child = mkdir.child(child_ref)\n",
    "        child.update({new_file_json: \"\"})\n",
    "        child = child.child(new_file_json)\n",
    "        if len(result_url) == 2:\n",
    "            child.update({\"p1\": result_url[0]})\n",
    "            child.update({\"p2\": result_url[1]})\n",
    "        else:\n",
    "            child.update({\"p\": result_url[0]})\n",
    "        return \"You successfully created a file\"\n",
    "    except:\n",
    "        return \"Invalid Input\""
   ]
  },
  {
   "cell_type": "code",
   "execution_count": 232,
   "id": "7b565939",
   "metadata": {},
   "outputs": [],
   "source": [
    "def rm(dir_in):\n",
    "    try:\n",
    "        if dirExist(dir_in + '/x') == False:\n",
    "                return 'Directory not exist'\n",
    "        ref = db.reference(dir_in)\n",
    "        ref.delete()\n",
    "        return \"Successfully deleted\"\n",
    "    except:\n",
    "        return \"Invalid Input\""
   ]
  },
  {
   "cell_type": "code",
   "execution_count": 233,
   "id": "d47a136f",
   "metadata": {},
   "outputs": [],
   "source": [
    "def cat(dir_in):\n",
    "    try:\n",
    "        if dirExist(dir_in) == True and newDirExist(dir_in) == True:      \n",
    "            ref = db.reference(dir_in)\n",
    "            par = ref.get()\n",
    "            dir_in = dir_in.split('/')\n",
    "            if dir_in[-1] == 'LA_Weather_json':\n",
    "                url1 = par['p1']\n",
    "                response1 = requests.get(url1)\n",
    "                r1 = response1.json()\n",
    "                while None in r1:\n",
    "                    r1.remove(None)\n",
    "                d1 = json.dumps(r1)\n",
    "                df1 = pd.read_json(d1)\n",
    "\n",
    "                url2 = par['p2']\n",
    "                response2 = requests.get(url2)\n",
    "                r2 = response2.json()\n",
    "                d2 = json.dumps(r2)\n",
    "                df2 = pd.read_json(d2, orient = 'index')\n",
    "\n",
    "                frames = [df1, df2]\n",
    "                df = pd.concat(frames)\n",
    "            if dir_in[-1] == 'victims_json':\n",
    "                url1 = par['p']\n",
    "                response1 = requests.get(url1)\n",
    "                r1 = response1.json()\n",
    "                while None in r1:\n",
    "                    r1.remove(None)\n",
    "                d1 = json.dumps(r1)\n",
    "                df = pd.read_json(d1)\n",
    "            if dir_in[-1] == 'parties_json':\n",
    "                url1 = par['p1'] \n",
    "                response1 = requests.get(url1)\n",
    "                r1 = response1.json()\n",
    "                df1 = pd.DataFrame()\n",
    "                for a in r1:\n",
    "                    df1 = df1.append(a, ignore_index = True)\n",
    "\n",
    "                url2 = par['p2'] \n",
    "                response2 = requests.get(url2)\n",
    "                r2 = response2.json()\n",
    "                d2 = json.dumps(r2)\n",
    "                df2 = pd.read_json(d2, orient = 'index')\n",
    "\n",
    "                frames = [df1, df2]\n",
    "                df = pd.concat(frames)\n",
    "            if dir_in[-1] == 'collision_json':      \n",
    "                url1 = par['p1'] \n",
    "                response1 = requests.get(url1)\n",
    "                r1 = response1.json()\n",
    "                df1 = pd.DataFrame()\n",
    "                for a in r1:\n",
    "                    df1 = df1.append(a, ignore_index = True)\n",
    "                    \n",
    "                url2 = par['p2']\n",
    "                response2 = requests.get(url2)\n",
    "                r2 = response2.json()\n",
    "                d2 = json.dumps(r2)\n",
    "                df2 = pd.read_json(d2, orient = 'index')\n",
    "\n",
    "                frames = [df1, df2]\n",
    "                df = pd.concat(frames)\n",
    "            if dir_in[-1] == 'LA_County_COVID_Cases_json':\n",
    "                url1 = par['p1']\n",
    "                response1 = requests.get(url1)\n",
    "                r1 = response1.json()\n",
    "                d1 = json.dumps(r1)\n",
    "                df1 = pd.read_json(d1, orient = 'index')\n",
    "\n",
    "                url2 = par['p2']\n",
    "                response2 = requests.get(url2)\n",
    "                r2 = response2.json()\n",
    "                d2 = json.dumps(r2)\n",
    "                df2 = pd.read_json(d2, orient = 'index')\n",
    "                \n",
    "\n",
    "                frames = [df1, df2]\n",
    "                df = pd.concat(frames)\n",
    "            return df\n",
    "        else:\n",
    "            return \"File not exist\"\n",
    "    except:\n",
    "        return \"Invalid Input\""
   ]
  },
  {
   "cell_type": "code",
   "execution_count": 250,
   "id": "66a4a920",
   "metadata": {},
   "outputs": [],
   "source": [
    "def getPartitionLocations(dir_in):\n",
    "    if dirExist(dir_in) == True and newDirExist(dir_in) == True:\n",
    "        dir_in_list = dir_in.split('/')\n",
    "        if dir_in_list[-1] != 'victims_json':\n",
    "            if dir_in_list[-1] == 'LA_Weather_json':\n",
    "                v1 = 'LA_Weather_2020'\n",
    "                v2 = 'LA_Weather_2021'\n",
    "            elif dir_in_list[-1] == 'LA_County_COVID_Cases_json':\n",
    "                v1 = 'LA_Covid_2020'\n",
    "                v2 = 'LA_Covid_2021'\n",
    "            elif dir_in_list[-1] == 'collision_json':\n",
    "                v1 = 'collision_2020'\n",
    "                v2 = 'collision_2021'\n",
    "            elif dir_in_list[-1] == 'parties_json':\n",
    "                v1 = 'parties_0'\n",
    "                v2 = 'parties_1'\n",
    "            return ['/Data/' + dir_in_list[-1] + '/' + v1, '/Data/' + dir_in_list[-1] + '/' + v2]\n",
    "        else:\n",
    "            return '/Data/' + dir_in_list[-1] + '/p'\n",
    "    else:\n",
    "        return 'Directory not exist'"
   ]
  },
  {
   "cell_type": "code",
   "execution_count": 251,
   "id": "1a639850",
   "metadata": {},
   "outputs": [
    {
     "data": {
      "text/plain": [
       "['/Data/LA_County_COVID_Cases_json/LA_Covid_2020',\n",
       " '/Data/LA_County_COVID_Cases_json/LA_Covid_2021']"
      ]
     },
     "execution_count": 251,
     "metadata": {},
     "output_type": "execute_result"
    }
   ],
   "source": [
    "getPartitionLocations('/root/user/dataset/LA_County_COVID_Cases_json')"
   ]
  },
  {
   "cell_type": "code",
   "execution_count": 239,
   "id": "712950a6",
   "metadata": {},
   "outputs": [],
   "source": [
    "def readPartition(dir_in, num):\n",
    "    try:\n",
    "        if dirExist(dir_in) == True and newDirExist(dir_in) == True:\n",
    "            ref = db.reference(dir_in)\n",
    "            par = ref.get()\n",
    "            dir_in = dir_in.split('/')\n",
    "            if dir_in[-1] == 'LA_Weather_json' and num == 1:\n",
    "                url1 = par['p1']\n",
    "                response1 = requests.get(url1)\n",
    "                r1 = response1.json()\n",
    "                while None in r1:\n",
    "                    r1.remove(None)\n",
    "                d1 = json.dumps(r1)\n",
    "                df = pd.read_json(d1)\n",
    "                return df\n",
    "            elif dir_in[-1] == 'LA_Weather_json' and num == 2:\n",
    "                url2 = par['p2']\n",
    "                response2 = requests.get(url2)\n",
    "                r2 = response2.json()\n",
    "                d2 = json.dumps(r2)\n",
    "                df = pd.read_json(d2, orient = 'index')\n",
    "                return df\n",
    "            elif dir_in[-1] == 'victims_json' and num == 1:\n",
    "                url1 = par['p']\n",
    "                response1 = requests.get(url1)\n",
    "                r1 = response1.json()\n",
    "                while None in r1:\n",
    "                    r1.remove(None)\n",
    "                d1 = json.dumps(r1)\n",
    "                df = pd.read_json(d1)\n",
    "                return df\n",
    "            elif dir_in[-1] == 'parties_json' and num == 1:\n",
    "                url1 = par['p1'] \n",
    "                response1 = requests.get(url1)\n",
    "                r1 = response1.json()\n",
    "                df = pd.DataFrame()\n",
    "                for a in r1:\n",
    "                    new_df = pd.DataFrame([a])\n",
    "                    df = pd.concat([df, new_df], axis=0, ignore_index=True)\n",
    "                return df\n",
    "            elif dir_in[-1] == 'parties_json' and num == 2:\n",
    "                url2 = par['p2'] \n",
    "                response2 = requests.get(url2)\n",
    "                r2 = response2.json()\n",
    "                d2 = json.dumps(r2)\n",
    "                df = pd.read_json(d2, orient = 'index')\n",
    "                return df\n",
    "            elif dir_in[-1] == 'collision_json' and num == 1:\n",
    "                url1 = par['p1'] \n",
    "                response1 = requests.get(url1)\n",
    "                r1 = response1.json()\n",
    "                df = pd.DataFrame()\n",
    "                for a in r1:\n",
    "                    new_df = pd.DataFrame([a])\n",
    "                    df = pd.concat([df, new_df], axis=0, ignore_index=True)\n",
    "                return df\n",
    "            elif dir_in[-1] == 'collision_json' and num == 2:\n",
    "                url2 = par['p2']\n",
    "                response2 = requests.get(url2)\n",
    "                r2 = response2.json()\n",
    "                d2 = json.dumps(r2)\n",
    "                df = pd.read_json(d2, orient = 'index')\n",
    "                return df\n",
    "            elif dir_in[-1] == 'LA_County_COVID_Cases_json' and num == 1:\n",
    "                url1 = par['p1']\n",
    "                response1 = requests.get(url1)\n",
    "                r1 = response1.json()\n",
    "                d1 = json.dumps(r1)\n",
    "                df = pd.read_json(d1, orient = 'index')\n",
    "                return df\n",
    "            elif dir_in[-1] == 'LA_County_COVID_Cases_json' and num == 2:\n",
    "                url2 = par['p2']\n",
    "                response2 = requests.get(url2)\n",
    "                r2 = response2.json()\n",
    "                d2 = json.dumps(r2)\n",
    "                df = pd.read_json(d2, orient = 'index')\n",
    "                return df\n",
    "            else:\n",
    "                return 'Invalid Input'\n",
    "        else:\n",
    "            return 'Directory not exist'\n",
    "    except:\n",
    "        return 'Invalid Input'"
   ]
  },
  {
   "cell_type": "markdown",
   "id": "f4c38295",
   "metadata": {},
   "source": [
    "# Add"
   ]
  },
  {
   "cell_type": "code",
   "execution_count": 203,
   "id": "b4a4c99c",
   "metadata": {},
   "outputs": [
    {
     "data": {
      "text/plain": [
       "['LA_County_COVID_Cases_json',\n",
       " 'LA_Weather_json',\n",
       " 'collision_json',\n",
       " 'parties_json',\n",
       " 'victims_json']"
      ]
     },
     "execution_count": 203,
     "metadata": {},
     "output_type": "execute_result"
    }
   ],
   "source": [
    "a = ls('/root/user/dataset')\n",
    "a"
   ]
  },
  {
   "cell_type": "markdown",
   "id": "019ff272",
   "metadata": {},
   "source": [
    "# Search"
   ]
  },
  {
   "cell_type": "code",
   "execution_count": 435,
   "id": "e3435d37",
   "metadata": {},
   "outputs": [],
   "source": [
    "def searchCountByGenderAge(gender,lage,uage):\n",
    "    dir_file = '/root/user/dataset/parties_json'\n",
    "    print('You are searching for gender',gender, 'and age from ', lage, 'to', uage)\n",
    "    \n",
    "    #map partitions\n",
    "    plist = []\n",
    "    for i in range(len(getPartitionLocations(dir_file))):\n",
    "        p = i+1\n",
    "        cond = \"party_age>=\"+str(lage)+\"&party_age<=\"+str(uage)+\"&party_sex=='\"+str(gender)+\"'\"\n",
    "        p_input = readPartition(dir_file, p).query(cond).groupby('party_sobriety')['id'].count().to_dict()\n",
    "        plist.append(p_input)\n",
    "        print('Partition', p, \"'s input is:'\")\n",
    "        print(p_input)\n",
    "        print()\n",
    "#reduce\n",
    "    output = reduceDict(plist)\n",
    "    print('The final reduced output of targeted individuals of each sobriety condition is:')\n",
    "    return output"
   ]
  },
  {
   "cell_type": "code",
   "execution_count": 436,
   "id": "8a307054",
   "metadata": {
    "scrolled": true
   },
   "outputs": [
    {
     "name": "stdout",
     "output_type": "stream",
     "text": [
      "You are searching for gender male and age from  20 to 30\n"
     ]
    },
    {
     "data": {
      "text/plain": [
       "{'had been drinking, impairment unknown': 31,\n",
       " 'had been drinking, not under influence': 56,\n",
       " 'had been drinking, under influence': 391,\n",
       " 'had not been drinking': 5090,\n",
       " 'impairment unknown': 243,\n",
       " 'not applicable': 140}"
      ]
     },
     "execution_count": 436,
     "metadata": {},
     "output_type": "execute_result"
    }
   ],
   "source": [
    "searchCountByGenderAge('male',20,30)"
   ]
  },
  {
   "cell_type": "code",
   "execution_count": 1,
   "id": "cd5094b9",
   "metadata": {},
   "outputs": [],
   "source": [
    "def searchCOVIDCasesDate(year,month,date):\n",
    "    dir_file =  '/root/user/dataset/LA_County_COVID_Cases_json'\n",
    "    date = str(month)+'/'+str(date)+'/'+str(year)\n",
    "    print('You are searching for number of cases on ' + date)\n",
    "    for i in range(len(getPartitionLocations(dir_file))):\n",
    "        p = i+1\n",
    "        p_df = readPartition(dir_file, p)\n",
    "        p_input = p_df[p_df['date']==date]['cases']\n",
    "\n",
    "        if p_input.empty:\n",
    "            pass\n",
    "        else:\n",
    "            print('In partition', p, 'we found result', p_input.to_string(index=False))\n",
    "    output = p_input\n",
    "    return output"
   ]
  },
  {
   "cell_type": "code",
   "execution_count": 428,
   "id": "0afbf7ab",
   "metadata": {
    "scrolled": true
   },
   "outputs": [
    {
     "name": "stdout",
     "output_type": "stream",
     "text": [
      "You are searching for number of cases on 10/21/2020\n",
      "In partition 1 we have result 299760\n"
     ]
    },
    {
     "data": {
      "text/plain": [
       "Series([], Name: cases, dtype: int64)"
      ]
     },
     "execution_count": 428,
     "metadata": {},
     "output_type": "execute_result"
    }
   ],
   "source": [
    "searchCOVIDCasesDate(2020,10,21)"
   ]
  },
  {
   "cell_type": "code",
   "execution_count": 2,
   "id": "910cb4aa",
   "metadata": {
    "scrolled": true
   },
   "outputs": [],
   "source": [
    "def searchMaxCOVID():\n",
    "    dir_file = '/root/user/dataset/LA_County_COVID_Cases_json'\n",
    "    plist_max = []\n",
    "    for i in range(len(getPartitionLocations(dir_file))):\n",
    "        p = i+1\n",
    "        p_max = readPartition(dir_file, p)[['date','new_cases']].sort_values(by = 'new_cases', ascending=False)[0:1]\n",
    "        plist_max.append(p_max)\n",
    "        print(\"Partition\", p, \"'s max new COVID cases output is:'\")\n",
    "        print(p_max)\n",
    "        print()\n",
    "    df = pd.concat(plist_max).sort_values(by = 'new_cases', ascending=False)\n",
    "    output = df[0:1]\n",
    "    ans = 'The maximum number of new cases is on '+ output['date'].to_string(index = False) + ' with cases ' + output['new_cases'].to_string(index = False)\n",
    "    return ans"
   ]
  },
  {
   "cell_type": "code",
   "execution_count": 341,
   "id": "46eccf98",
   "metadata": {
    "scrolled": true
   },
   "outputs": [
    {
     "data": {
      "text/plain": [
       "'The maximum number of new cases is on 2021-12-29 with cases 44710'"
      ]
     },
     "execution_count": 341,
     "metadata": {},
     "output_type": "execute_result"
    }
   ],
   "source": [
    "searchMaxCOVID()"
   ]
  },
  {
   "cell_type": "code",
   "execution_count": 99,
   "id": "ddd89df2",
   "metadata": {},
   "outputs": [],
   "source": [
    "# def searchCountRange(lyear,lmonth,ldate,uyear,umonth,udate):\n",
    "#     ldate = str(lyear)+'-'+str(lmonth)+'-'+str(ldate)\n",
    "#     udate = str(uyear)+'-'+str(umonth)+'-'+str(udate)\n",
    "#     dir_file = '/root/user/dataset/collisions_json'\n",
    "#     plist = []\n",
    "#     cond = \"collision_date>='\"+ldate+\"'&collision_date<='\"+udate+\"'\"\n",
    "#     try:\n",
    "#         for i in range(len(getPartitionLocations(dir_file))):\n",
    "#             p = i+1\n",
    "#             p_input = readPartition(dir_file,p).query(cond)['case_id'].count()\n",
    "#             plist.append(p_input)\n",
    "#             print('partition', p, ':', p_input)\n",
    "#         #reduce\n",
    "#         output = 'The total number of cases in selected dates is '+str(sum(plist))\n",
    "#     except:\n",
    "#         return 'Invalid Input'\n",
    "#     return output"
   ]
  },
  {
   "cell_type": "code",
   "execution_count": 396,
   "id": "988c3168",
   "metadata": {},
   "outputs": [],
   "source": [
    "def reduceDict(lst):\n",
    "    p1 = lst[0]\n",
    "    for key in p1:\n",
    "        for p in lst[1:]:\n",
    "            if key in p:\n",
    "                p1[key]+=p[key]\n",
    "            else:\n",
    "                p1[key] = p[key]\n",
    "    return p1"
   ]
  },
  {
   "cell_type": "markdown",
   "id": "7132d7d7",
   "metadata": {},
   "source": [
    "# Analytics"
   ]
  },
  {
   "cell_type": "code",
   "execution_count": 3,
   "id": "958fd2e0",
   "metadata": {
    "scrolled": true
   },
   "outputs": [],
   "source": [
    "def sobrietyAtFault():\n",
    "    dir_file = '/root/user/dataset/parties_json'\n",
    "    plist = []\n",
    "    for i in range(len(getPartitionLocations(dir_file))):\n",
    "        p = i+1\n",
    "        pdf = pd.DataFrame(readPartition(dir_file,p).groupby(['at_fault', 'party_sobriety'])['id'].count()).reset_index()\n",
    "        pdf.columns = ['at_fault', 'sobriety', 'count']\n",
    "        plist.append(pdf)\n",
    "        print(\"Partition\", p, \"'s party at_fault and sobriety situation is:'\")\n",
    "        print(pdf)\n",
    "        print()\n",
    "    output = pd.concat(plist)\n",
    "    print(\"The reduced table:\")\n",
    "    return output"
   ]
  },
  {
   "cell_type": "code",
   "execution_count": 393,
   "id": "ed873e64",
   "metadata": {},
   "outputs": [
    {
     "data": {
      "text/html": [
       "<div>\n",
       "<style scoped>\n",
       "    .dataframe tbody tr th:only-of-type {\n",
       "        vertical-align: middle;\n",
       "    }\n",
       "\n",
       "    .dataframe tbody tr th {\n",
       "        vertical-align: top;\n",
       "    }\n",
       "\n",
       "    .dataframe thead th {\n",
       "        text-align: right;\n",
       "    }\n",
       "</style>\n",
       "<table border=\"1\" class=\"dataframe\">\n",
       "  <thead>\n",
       "    <tr style=\"text-align: right;\">\n",
       "      <th></th>\n",
       "      <th>at_fault</th>\n",
       "      <th>sobriety</th>\n",
       "      <th>count</th>\n",
       "    </tr>\n",
       "  </thead>\n",
       "  <tbody>\n",
       "    <tr>\n",
       "      <th>0</th>\n",
       "      <td>0.0</td>\n",
       "      <td>had been drinking, impairment unknown</td>\n",
       "      <td>68</td>\n",
       "    </tr>\n",
       "    <tr>\n",
       "      <th>1</th>\n",
       "      <td>0.0</td>\n",
       "      <td>had been drinking, not under influence</td>\n",
       "      <td>121</td>\n",
       "    </tr>\n",
       "    <tr>\n",
       "      <th>2</th>\n",
       "      <td>0.0</td>\n",
       "      <td>had been drinking, under influence</td>\n",
       "      <td>66</td>\n",
       "    </tr>\n",
       "    <tr>\n",
       "      <th>3</th>\n",
       "      <td>0.0</td>\n",
       "      <td>had not been drinking</td>\n",
       "      <td>17048</td>\n",
       "    </tr>\n",
       "    <tr>\n",
       "      <th>4</th>\n",
       "      <td>0.0</td>\n",
       "      <td>impairment unknown</td>\n",
       "      <td>913</td>\n",
       "    </tr>\n",
       "    <tr>\n",
       "      <th>5</th>\n",
       "      <td>0.0</td>\n",
       "      <td>not applicable</td>\n",
       "      <td>4256</td>\n",
       "    </tr>\n",
       "    <tr>\n",
       "      <th>0</th>\n",
       "      <td>1.0</td>\n",
       "      <td>had been drinking, impairment unknown</td>\n",
       "      <td>243</td>\n",
       "    </tr>\n",
       "    <tr>\n",
       "      <th>1</th>\n",
       "      <td>1.0</td>\n",
       "      <td>had been drinking, not under influence</td>\n",
       "      <td>111</td>\n",
       "    </tr>\n",
       "    <tr>\n",
       "      <th>2</th>\n",
       "      <td>1.0</td>\n",
       "      <td>had been drinking, under influence</td>\n",
       "      <td>1156</td>\n",
       "    </tr>\n",
       "    <tr>\n",
       "      <th>3</th>\n",
       "      <td>1.0</td>\n",
       "      <td>had not been drinking</td>\n",
       "      <td>11060</td>\n",
       "    </tr>\n",
       "    <tr>\n",
       "      <th>4</th>\n",
       "      <td>1.0</td>\n",
       "      <td>impairment unknown</td>\n",
       "      <td>4680</td>\n",
       "    </tr>\n",
       "    <tr>\n",
       "      <th>5</th>\n",
       "      <td>1.0</td>\n",
       "      <td>not applicable</td>\n",
       "      <td>482</td>\n",
       "    </tr>\n",
       "  </tbody>\n",
       "</table>\n",
       "</div>"
      ],
      "text/plain": [
       "   at_fault                                sobriety  count\n",
       "0       0.0   had been drinking, impairment unknown     68\n",
       "1       0.0  had been drinking, not under influence    121\n",
       "2       0.0      had been drinking, under influence     66\n",
       "3       0.0                   had not been drinking  17048\n",
       "4       0.0                      impairment unknown    913\n",
       "5       0.0                          not applicable   4256\n",
       "0       1.0   had been drinking, impairment unknown    243\n",
       "1       1.0  had been drinking, not under influence    111\n",
       "2       1.0      had been drinking, under influence   1156\n",
       "3       1.0                   had not been drinking  11060\n",
       "4       1.0                      impairment unknown   4680\n",
       "5       1.0                          not applicable    482"
      ]
     },
     "execution_count": 393,
     "metadata": {},
     "output_type": "execute_result"
    }
   ],
   "source": [
    "sobrietyAtFault()"
   ]
  },
  {
   "cell_type": "code",
   "execution_count": 4,
   "id": "941e2feb",
   "metadata": {},
   "outputs": [],
   "source": [
    "def lightingPercentage():\n",
    "    dir_file = '/root/user/dataset/collision_json'\n",
    "    plist = []\n",
    "    for i in range(len(getPartitionLocations(dir_file))):\n",
    "        p = i+1\n",
    "        pdf = readPartition(dir_file, p).groupby('lighting')['case_id'].count().to_dict()\n",
    "        plist.append(pdf)\n",
    "        print(\"Partition\", p, \"'s collision group by lighting count is:'\")\n",
    "        print(pdf)\n",
    "        print()\n",
    "    p_input = reduceDict(plist)\n",
    "    df = pd.DataFrame(p_input.items(), columns = ['lighting','count'])\n",
    "    fig = plt.figure(figsize = (4, 4))\n",
    "    ax = fig.add_subplot(111)\n",
    "    ax.pie(df['count'], labels = df['lighting'], textprops = dict(color='w'))\n",
    "    ax.legend(df['lighting'], title=\"Type of Lighting\", loc=\"center left\", bbox_to_anchor=(1, 0, 0.5, 1))\n",
    "    plt.title('Percentage of Lighting Condition of All Collisions in LA 2020&2021')\n",
    "    plt.show()\n",
    "    \n",
    "    \n",
    "        "
   ]
  },
  {
   "cell_type": "code",
   "execution_count": 398,
   "id": "c8cb3a2e",
   "metadata": {
    "scrolled": true
   },
   "outputs": [
    {
     "data": {
      "image/png": "[encoded data removed]",
      "text/plain": [
       "<Figure size 400x400 with 1 Axes>"
      ]
     },
     "metadata": {},
     "output_type": "display_data"
    }
   ],
   "source": [
    "lightingPercentage()"
   ]
  },
  {
   "cell_type": "code",
   "execution_count": 5,
   "id": "17569803",
   "metadata": {},
   "outputs": [],
   "source": [
    "def avgAgeAtFault():\n",
    "    dir_file = '/root/user/dataset/parties_json'\n",
    "    plist = []\n",
    "    for i in range(len(getPartitionLocations(dir_file))):\n",
    "        p = i+1\n",
    "        pdf = readPartition(dir_file,p)\n",
    "        pdf = pdf[pdf['at_fault'] == 1][['party_age', 'party_sex']].dropna()\n",
    "        pdf['party_sex'] = pdf['party_sex'].str.replace('X', 'other')\n",
    "        plist.append(pdf)\n",
    "        print('Partition', p, 'has parties at fault with following gender and age:')\n",
    "        print(pdf)\n",
    "        print()\n",
    "    total = pd.concat(plist)\n",
    "    sns.boxplot(x = total['party_sex'],\n",
    "               y = total['party_age']).set(xlabel='Gender',\n",
    "                                          ylabel='Age',\n",
    "                                          title='Age and Gender of Parties at fault')\n",
    "    plt.show()"
   ]
  },
  {
   "cell_type": "code",
   "execution_count": 410,
   "id": "c09fdb9b",
   "metadata": {},
   "outputs": [
    {
     "data": {
      "image/png": "[encoded data removed]",
      "text/plain": [
       "<Figure size 640x480 with 1 Axes>"
      ]
     },
     "metadata": {},
     "output_type": "display_data"
    }
   ],
   "source": [
    "avgAgeAtFault()"
   ]
  }
 ],
 "metadata": {
  "kernelspec": {
   "display_name": "Python 3 (ipykernel)",
   "language": "python",
   "name": "python3"
  },
  "language_info": {
   "codemirror_mode": {
    "name": "ipython",
    "version": 3
   },
   "file_extension": ".py",
   "mimetype": "text/x-python",
   "name": "python",
   "nbconvert_exporter": "python",
   "pygments_lexer": "ipython3",
   "version": "3.8.8"
  }
 },
 "nbformat": 4,
 "nbformat_minor": 5
}
